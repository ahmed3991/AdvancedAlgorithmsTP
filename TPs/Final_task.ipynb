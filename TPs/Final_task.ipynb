{
  "nbformat": 4,
  "nbformat_minor": 0,
  "metadata": {
    "colab": {
      "provenance": []
    },
    "kernelspec": {
      "name": "python3",
      "display_name": "Python 3"
    },
    "language_info": {
      "name": "python"
    }
  },
  "cells": [
    {
      "cell_type": "markdown",
      "source": [
        "#### مقدمة\n",
        "\n",
        "هذا الكود يهدف إلى قياس أداء ثلاث خوارزميات مختلفة لحساب أطول سلسلة مشتركة (LCS) بين سلسلتين:\n",
        "1. الخوارزمية التكرارية (Recursive LCS).\n",
        "2. الخوارزمية التكرارية المحسنة بالتخزين المؤقت (Memoized LCS).\n",
        "3. خوارزمية البرمجة الديناميكية (Dynamic Programming LCS).\n",
        "\n",
        "#### خطوات العمل:\n",
        "\n",
        "1. **توليد البيانات العشوائية**:\n",
        "   - يتم إنشاء سلاسل عشوائية تحتوي على الأحرف \\(\"A\", \"C\", \"G\", \"T\"\\) بأطوال مختلفة.\n",
        "\n",
        "2. **قياس الأداء**:\n",
        "   - يتم قياس الزمن واستهلاك الذاكرة لكل خوارزمية باستخدام مكتبة `TimeAndSpaceProfiler`.\n",
        "\n",
        "3. **حفظ النتائج**:\n",
        "   - يتم تخزين النتائج في ملفات CSV:\n",
        "     - `lcs_benchmark_results.csv` يحتوي على نتائج جميع التجارب.\n",
        "     - `lcs_grouped_results.csv` يحتوي على النتائج المجمعة (متوسط الأداء لكل حجم بيانات).\n",
        "\n",
        "4. **تحليل النتائج**:\n",
        "   - تحليل البيانات وعرض الرسوم البيانية باستخدام مكتبة `seaborn`.\n"
      ],
      "metadata": {
        "id": "t5TDxiOqyS7T"
      }
    },
    {
      "cell_type": "code",
      "execution_count": null,
      "metadata": {
        "id": "wkmu_G5GyPOe"
      },
      "outputs": [],
      "source": [
        "\n",
        "import pandas as pd\n",
        "import matplotlib.pyplot as plt\n",
        "import seaborn as sns\n",
        "\n",
        "def load_csv(file_path):\n",
        "\n",
        "    try:\n",
        "        df = pd.read_csv(file_path)\n",
        "        print(f\"تم تحميل الملف {file_path} بنجاح.\")\n",
        "        return df\n",
        "    except Exception as e:\n",
        "        print(f\"حدث خطأ أثناء تحميل الملف {file_path}: {e}\")\n",
        "        return None\n",
        "\n",
        "def plot_results(df, x_col, y_col, hue_col, title, xlabel, ylabel):\n",
        "\n",
        "    plt.figure(figsize=(12, 8))\n",
        "    sns.lineplot(data=df, x=x_col, y=y_col, hue=hue_col, marker=\"o\")\n",
        "    plt.title(title)\n",
        "    plt.xlabel(xlabel)\n",
        "    plt.ylabel(ylabel)\n",
        "    plt.legend(title=hue_col)\n",
        "    plt.grid(True)\n",
        "    plt.show()\n",
        "\n",
        "def analyze_lcs_results(results_file, grouped_file):\n",
        "\n",
        "    detailed_df = load_csv(results_file)\n",
        "    grouped_df = load_csv(grouped_file)\n",
        "\n",
        "    if grouped_df is not None:\n",
        "        plot_results(\n",
        "            grouped_df,\n",
        "            x_col=\"size\",\n",
        "            y_col=\"time\",\n",
        "            hue_col=\"algorithm\",\n",
        "            title=\"متوسط الزمن لكل خوارزمية حسب حجم البيانات\",\n",
        "            xlabel=\"حجم البيانات\",\n",
        "            ylabel=\"الزمن (بالثواني)\"\n",
        "        )\n",
        "\n",
        "        plot_results(\n",
        "            grouped_df,\n",
        "            x_col=\"size\",\n",
        "            y_col=\"memory\",\n",
        "            hue_col=\"algorithm\",\n",
        "            title=\"متوسط استهلاك الذاكرة لكل خوارزمية حسب حجم البيانات\",\n",
        "            xlabel=\"حجم البيانات\",\n",
        "            ylabel=\"الذاكرة (بالبايت)\"\n",
        "        )\n",
        "\n",
        "if __name__ == \"__main__\":\n",
        "    results_csv = \"lcs_benchmark_results.csv\"\n",
        "    grouped_csv = \"lcs_grouped_results.csv\"\n",
        "\n",
        "    analyze_lcs_results(results_csv, grouped_csv)\n",
        "\n",
        "\n"
      ]
    },
    {
      "cell_type": "markdown",
      "source": [
        "\n",
        "#### ملاحظات:\n",
        "- الخوارزمية التكرارية (Recursive) تُظهر أداءً ضعيفًا مع أحجام كبيرة بسبب تعقيدها الزمني العالي \\(O(2^n)\\).\n",
        "- الخوارزمية الديناميكية (Dynamic Programming) هي الأكثر كفاءة حيث تستخدم الجدولة لتقليل التعقيد إلى \\(O(m \\times n)\\).\n",
        "\n",
        "### الرسوم البيانية المتوقعة:\n",
        "\n",
        "1. **الزمن مقابل حجم البيانات**:\n",
        "   - يظهر كيف يتغير الزمن المستغرق لكل خوارزمية مع زيادة حجم البيانات.\n",
        "\n",
        "2. **الذاكرة مقابل حجم البيانات**:\n",
        "   - يظهر الفرق في استهلاك الذاكرة بين الخوارزميات الثلاث.\n",
        "\n",
        "### تشغيل الكود:\n",
        "- تأكد من وجود ملفات CSV `lcs_benchmark_results.csv` و `lcs_grouped_results.csv` في نفس مسار الملف.\n",
        "- شغّل الكود لمشاهدة الرسوم البيانية وتحليل النتائج."
      ],
      "metadata": {
        "id": "npdnDBVLy0Z6"
      }
    }
  ]
}