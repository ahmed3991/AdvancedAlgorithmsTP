{
 "cells": [
  {
   "cell_type": "code",
   "id": "initial_id",
   "metadata": {
    "collapsed": true
   },
   "source": [
    "from complexity import time_and_space_profiler\n",
    "from tqdm import tqdm , trange\n",
    "import numpy as np\n",
    "import pandas as pd\n",
    "import seaborn as sns"
   ],
   "outputs": [],
   "execution_count": null
  },
  {
   "metadata": {},
   "cell_type": "code",
   "source": [
    "def generate_tests(lengths, tests_per_length=5, seed=42):\n",
    "    \"\"\"\n",
    "    Generate test cases for benchmarking search algorithms.\n",
    "    \n",
    "    Parameters:\n",
    "        lengths (list or array-like): List of array lengths to generate.\n",
    "        tests_per_length (int): Number of tests to generate per length.\n",
    "        seed (int): Seed for random number generator for reproducibility.\n",
    "        \n",
    "    Returns:\n",
    "        list of tuples: Each tuple contains (array_length, array, target_value).\n",
    "    \"\"\"\n",
    "    np.random.seed(seed)\n",
    "    tests = []\n",
    "\n",
    "    for length in lengths:\n",
    "        for _ in range(tests_per_length):\n",
    "            arr = np.random.randint(1, 4 * length, size=length)\n",
    "            test = (length, arr)\n",
    "            tests.append(test)\n",
    "    \n",
    "    return tests"
   ],
   "id": "e186636d0c8b6a69",
   "outputs": [],
   "execution_count": null
  },
  {
   "metadata": {},
   "cell_type": "code",
   "source": [
    "@time_and_space_profiler\n",
    "def bubble_sort(arr):\n",
    "    n = len(arr)\n",
    "    for i in range(n):\n",
    "        for j in range(0, n - i - 1):\n",
    "            if arr[j] > arr[j + 1]:\n",
    "                arr[j], arr[j + 1] = arr[j + 1], arr[j]\n",
    "    return arr"
   ],
   "id": "1fa568cda41bf6b6",
   "outputs": [],
   "execution_count": null
  },
  {
   "metadata": {},
   "cell_type": "code",
   "source": [
    "@time_and_space_profiler\n",
    "def selection_sort(arr):\n",
    "    n = len(arr)\n",
    "    for i in range(n):\n",
    "        min_index = i\n",
    "        for j in range(i + 1, n):\n",
    "            if arr[j] < arr[min_index]:\n",
    "                min_index = j\n",
    "        arr[i], arr[min_index] = arr[min_index], arr[i]\n",
    "    return arr"
   ],
   "id": "7d140c176c6437d9",
   "outputs": [],
   "execution_count": null
  },
  {
   "metadata": {},
   "cell_type": "code",
   "source": [
    "@time_and_space_profiler\n",
    "def insertion_sort(arr):\n",
    "    for i in range(1, len(arr)):\n",
    "        key = arr[i]\n",
    "        j = i - 1\n",
    "        while j >= 0 and arr[j] > key:\n",
    "            arr[j + 1] = arr[j]\n",
    "            j -= 1\n",
    "        arr[j + 1] = key\n",
    "    return arr"
   ],
   "id": "308061ab4b52dcfc",
   "outputs": [],
   "execution_count": null
  },
  {
   "metadata": {},
   "cell_type": "code",
   "source": [
    "lengths = np.array(range(1000,1000000,20000))\n",
    "\n",
    "tests_per_length = 5\n",
    "\n",
    "tests = generate_tests(lengths, tests_per_length, seed=42)"
   ],
   "id": "b59e2950662c75b1",
   "outputs": [],
   "execution_count": null
  },
  {
   "metadata": {},
   "cell_type": "code",
   "source": [
    "funcs = [bubble_sort, selection_sort, insertion_sort]\n",
    "\n",
    "results = []\n",
    "for i , (length, arr) in tqdm(enumerate(tests),ncols=len(tests)):\n",
    "    \n",
    "    for func in funcs:\n",
    "\n",
    "        func_name,comparison,T, S = func(arr)\n",
    "\n",
    "        results.append((i,func_name,length,comparison,T,S))"
   ],
   "id": "60f5e86cc47e49a5",
   "outputs": [],
   "execution_count": null
  },
  {
   "metadata": {},
   "cell_type": "code",
   "source": "df = pd.DataFrame(results, columns=['id_test','function_name','array_length','comparison','time','space'])",
   "id": "1723ee0c1aaf57a9",
   "outputs": [],
   "execution_count": null
  },
  {
   "metadata": {},
   "cell_type": "code",
   "source": "df.head()",
   "id": "9e9f13fda793dfef",
   "outputs": [],
   "execution_count": null
  },
  {
   "metadata": {},
   "cell_type": "code",
   "source": "sns.lineplot(data=df, x='array_length', y='time', hue='function_name', marker='o')",
   "id": "df94576f6f832c1e",
   "outputs": [],
   "execution_count": null
  }
 ],
 "metadata": {
  "kernelspec": {
   "display_name": "Python 3",
   "language": "python",
   "name": "python3"
  },
  "language_info": {
   "codemirror_mode": {
    "name": "ipython",
    "version": 2
   },
   "file_extension": ".py",
   "mimetype": "text/x-python",
   "name": "python",
   "nbconvert_exporter": "python",
   "pygments_lexer": "ipython2",
   "version": "2.7.6"
  }
 },
 "nbformat": 4,
 "nbformat_minor": 5
}
