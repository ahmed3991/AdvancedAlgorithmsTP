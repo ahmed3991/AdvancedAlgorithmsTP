{
 "cells": [
  {
   "cell_type": "markdown",
   "metadata": {},
   "source": [
    "Importing csv and Pandas"
   ]
  },
  {
   "cell_type": "code",
   "execution_count": null,
   "metadata": {},
   "outputs": [],
   "source": [
    "import pandas as pd\n",
    "\n",
    "# Load the CSV files\n",
    "benchmark_df = pd.read_csv('benchmark_results.csv')\n",
    "grouped_df = pd.read_csv('grouped_results.csv')\n",
    "raw_df = pd.read_csv('raw_results.csv')"
   ]
  },
  {
   "cell_type": "markdown",
   "metadata": {},
   "source": [
    "Cleaning Data"
   ]
  },
  {
   "cell_type": "code",
   "execution_count": null,
   "metadata": {},
   "outputs": [],
   "source": [
    "benchmark_df.dropna(inplace=True)\n",
    "grouped_df.dropna(inplace=True)\n",
    "raw_df.dropna(inplace=True)\n",
    "\n",
    "benchmark_df['time'] = pd.to_numeric(benchmark_df['time'], errors='coerce')\n",
    "benchmark_df['memory'] = pd.to_numeric(benchmark_df['memory'], errors='coerce')"
   ]
  },
  {
   "cell_type": "markdown",
   "metadata": {},
   "source": [
    "Graphs"
   ]
  },
  {
   "cell_type": "code",
   "execution_count": null,
   "metadata": {},
   "outputs": [],
   "source": [
    "import matplotlib.pyplot as plt\n",
    "import seaborn as sns\n",
    "\n",
    "# Group by algorithm and size\n",
    "grouped_time = benchmark_df.groupby(['algorithm', 'size'])['time'].mean().reset_index()\n",
    "\n",
    "# Plot time vs. size for each algorithm\n",
    "sns.lineplot(data=grouped_time, x='size', y='time', hue='algorithm', marker='o')\n",
    "plt.title('Execution Time vs. String Length')\n",
    "plt.xlabel('String Length')\n",
    "plt.ylabel('Execution Time (seconds)')\n",
    "plt.legend(title='Algorithm')\n",
    "plt.grid()\n",
    "plt.show()"
   ]
  },
  {
   "cell_type": "code",
   "execution_count": null,
   "metadata": {},
   "outputs": [],
   "source": [
    "# Group by algorithm and size\n",
    "grouped_memory = benchmark_df.groupby(['algorithm', 'size'])['memory'].mean().reset_index()\n",
    "\n",
    "# Plot memory vs. size for each algorithm\n",
    "sns.lineplot(data=grouped_memory, x='size', y='memory', hue='algorithm', marker='o')\n",
    "plt.title('Memory Usage vs. String Length')\n",
    "plt.xlabel('String Length')\n",
    "plt.ylabel('Memory Usage (MB)')\n",
    "plt.legend(title='Algorithm')\n",
    "plt.grid()\n",
    "plt.show()"
   ]
  },
  {
   "cell_type": "markdown",
   "metadata": {},
   "source": [
    "Complexity Analyser"
   ]
  },
  {
   "cell_type": "code",
   "execution_count": null,
   "metadata": {},
   "outputs": [
    {
     "data": {
      "text/plain": [
       "Traceback (most recent call last):\n",
       "  File \"c:\\Users\\MakamTECH\\.vscode\\extensions\\ms-python.python-2024.22.0-win32-x64\\python_files\\python_server.py\", line 133, in exec_user_input\n",
       "    retval = callable_(user_input, user_globals)\n",
       "             ^^^^^^^^^^^^^^^^^^^^^^^^^^^^^^^^^^^\n",
       "  File \"<string>\", line 1, in <module>\n",
       "ModuleNotFoundError: No module named 'complexity'\n",
       "\n"
      ]
     },
     "metadata": {},
     "output_type": "display_data"
    }
   ],
   "source": [
    "from complexity.analyser import ComplexityAnalyzer\n",
    "\n",
    "analyzer = ComplexityAnalyzer()\n",
    "\n",
    "# Example: Compare algorithms on time and memory usage\n",
    "analyzer.compare_algorithms(grouped_time, metric='time')\n",
    "analyzer.compare_algorithms(grouped_memory, metric='memory')\n"
   ]
  }
 ],
 "metadata": {
  "kernelspec": {
   "display_name": ".venv",
   "language": "python",
   "name": "python3"
  },
  "language_info": {
   "codemirror_mode": {
    "name": "ipython",
    "version": 3
   },
   "file_extension": ".py",
   "mimetype": "text/x-python",
   "name": "python",
   "nbconvert_exporter": "python",
   "pygments_lexer": "ipython3",
   "version": "3.12.7"
  }
 },
 "nbformat": 4,
 "nbformat_minor": 2
}
