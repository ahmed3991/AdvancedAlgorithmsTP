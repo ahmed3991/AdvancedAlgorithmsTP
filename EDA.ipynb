{
 "cells": [
  {
   "cell_type": "markdown",
   "metadata": {},
   "source": [
    "# EDA\n",
    "\n",
    "hello , this is a notebook for analysing the results.csv"
   ]
  },
  {
   "cell_type": "code",
   "execution_count": null,
   "metadata": {},
   "outputs": [],
   "source": [
    "import pandas as pd\n",
    "import matplotlib.pyplot as plt\n",
    "\n",
    "df = pd.read_csv('results.csv')\n",
    "\n",
    "df"
   ]
  },
  {
   "cell_type": "code",
   "execution_count": 2,
   "metadata": {},
   "outputs": [],
   "source": [
    "group_columns = ['function_name', 'array_length']\n",
    "cal_columns = ['comparison', 'time','space']\n"
   ]
  },
  {
   "cell_type": "code",
   "execution_count": 3,
   "metadata": {},
   "outputs": [],
   "source": [
    "group_df = df.groupby(group_columns,as_index=False).mean()"
   ]
  },
  {
   "cell_type": "code",
   "execution_count": 4,
   "metadata": {},
   "outputs": [
    {
     "data": {
      "text/html": [
       "<div>\n",
       "<style scoped>\n",
       "    .dataframe tbody tr th:only-of-type {\n",
       "        vertical-align: middle;\n",
       "    }\n",
       "\n",
       "    .dataframe tbody tr th {\n",
       "        vertical-align: top;\n",
       "    }\n",
       "\n",
       "    .dataframe thead th {\n",
       "        text-align: right;\n",
       "    }\n",
       "</style>\n",
       "<table border=\"1\" class=\"dataframe\">\n",
       "  <thead>\n",
       "    <tr style=\"text-align: right;\">\n",
       "      <th></th>\n",
       "      <th>function_name</th>\n",
       "      <th>array_length</th>\n",
       "      <th>comparison</th>\n",
       "      <th>time</th>\n",
       "      <th>space</th>\n",
       "    </tr>\n",
       "  </thead>\n",
       "  <tbody>\n",
       "    <tr>\n",
       "      <th>0</th>\n",
       "      <td>advanced_sequantial_search</td>\n",
       "      <td>1000</td>\n",
       "      <td>1548.8</td>\n",
       "      <td>0.208725</td>\n",
       "      <td>0.00625</td>\n",
       "    </tr>\n",
       "    <tr>\n",
       "      <th>1</th>\n",
       "      <td>advanced_sequantial_search</td>\n",
       "      <td>21000</td>\n",
       "      <td>25384.4</td>\n",
       "      <td>0.216649</td>\n",
       "      <td>0.00000</td>\n",
       "    </tr>\n",
       "    <tr>\n",
       "      <th>2</th>\n",
       "      <td>advanced_sequantial_search</td>\n",
       "      <td>41000</td>\n",
       "      <td>47461.4</td>\n",
       "      <td>0.220096</td>\n",
       "      <td>0.00000</td>\n",
       "    </tr>\n",
       "    <tr>\n",
       "      <th>3</th>\n",
       "      <td>advanced_sequantial_search</td>\n",
       "      <td>61000</td>\n",
       "      <td>69104.4</td>\n",
       "      <td>0.223732</td>\n",
       "      <td>0.00000</td>\n",
       "    </tr>\n",
       "    <tr>\n",
       "      <th>4</th>\n",
       "      <td>advanced_sequantial_search</td>\n",
       "      <td>81000</td>\n",
       "      <td>87644.2</td>\n",
       "      <td>0.226805</td>\n",
       "      <td>0.00000</td>\n",
       "    </tr>\n",
       "    <tr>\n",
       "      <th>...</th>\n",
       "      <td>...</td>\n",
       "      <td>...</td>\n",
       "      <td>...</td>\n",
       "      <td>...</td>\n",
       "      <td>...</td>\n",
       "    </tr>\n",
       "    <tr>\n",
       "      <th>145</th>\n",
       "      <td>sequantial_search</td>\n",
       "      <td>901000</td>\n",
       "      <td>855709.6</td>\n",
       "      <td>0.298015</td>\n",
       "      <td>0.00000</td>\n",
       "    </tr>\n",
       "    <tr>\n",
       "      <th>146</th>\n",
       "      <td>sequantial_search</td>\n",
       "      <td>921000</td>\n",
       "      <td>867328.0</td>\n",
       "      <td>0.300383</td>\n",
       "      <td>0.00000</td>\n",
       "    </tr>\n",
       "    <tr>\n",
       "      <th>147</th>\n",
       "      <td>sequantial_search</td>\n",
       "      <td>941000</td>\n",
       "      <td>897293.6</td>\n",
       "      <td>0.299257</td>\n",
       "      <td>0.00000</td>\n",
       "    </tr>\n",
       "    <tr>\n",
       "      <th>148</th>\n",
       "      <td>sequantial_search</td>\n",
       "      <td>961000</td>\n",
       "      <td>961000.0</td>\n",
       "      <td>0.300059</td>\n",
       "      <td>0.00000</td>\n",
       "    </tr>\n",
       "    <tr>\n",
       "      <th>149</th>\n",
       "      <td>sequantial_search</td>\n",
       "      <td>981000</td>\n",
       "      <td>926421.0</td>\n",
       "      <td>0.291771</td>\n",
       "      <td>0.00000</td>\n",
       "    </tr>\n",
       "  </tbody>\n",
       "</table>\n",
       "<p>150 rows × 5 columns</p>\n",
       "</div>"
      ],
      "text/plain": [
       "                  function_name  array_length  comparison      time    space\n",
       "0    advanced_sequantial_search          1000      1548.8  0.208725  0.00625\n",
       "1    advanced_sequantial_search         21000     25384.4  0.216649  0.00000\n",
       "2    advanced_sequantial_search         41000     47461.4  0.220096  0.00000\n",
       "3    advanced_sequantial_search         61000     69104.4  0.223732  0.00000\n",
       "4    advanced_sequantial_search         81000     87644.2  0.226805  0.00000\n",
       "..                          ...           ...         ...       ...      ...\n",
       "145           sequantial_search        901000    855709.6  0.298015  0.00000\n",
       "146           sequantial_search        921000    867328.0  0.300383  0.00000\n",
       "147           sequantial_search        941000    897293.6  0.299257  0.00000\n",
       "148           sequantial_search        961000    961000.0  0.300059  0.00000\n",
       "149           sequantial_search        981000    926421.0  0.291771  0.00000\n",
       "\n",
       "[150 rows x 5 columns]"
      ]
     },
     "execution_count": 4,
     "metadata": {},
     "output_type": "execute_result"
    }
   ],
   "source": [
    "calculated_results = group_df[group_columns+cal_columns]\n",
    "\n",
    "calculated_results"
   ]
  },
  {
   "cell_type": "code",
   "execution_count": 5,
   "metadata": {},
   "outputs": [
    {
     "data": {
      "text/plain": [
       "['advanced_sequantial_search', 'binary_search', 'sequantial_search']"
      ]
     },
     "execution_count": 5,
     "metadata": {},
     "output_type": "execute_result"
    }
   ],
   "source": [
    "function_names = list(calculated_results['function_name'].unique())\n",
    "function_names"
   ]
  },
  {
   "cell_type": "code",
   "execution_count": 6,
   "metadata": {},
   "outputs": [
    {
     "data": {
      "image/png": "[encoded data removed]",
      "text/plain": [
       "<Figure size 640x480 with 1 Axes>"
      ]
     },
     "metadata": {},
     "output_type": "display_data"
    }
   ],
   "source": [
    "for function_name in function_names:\n",
    "    df_plot = calculated_results[calculated_results['function_name'] == function_name]\n",
    "    plt.plot(df_plot['array_length'], df_plot['comparison'],label=function_name)\n",
    "\n"
   ]
  },
  {
   "cell_type": "code",
   "execution_count": 7,
   "metadata": {},
   "outputs": [
    {
     "data": {
      "text/plain": [
       "count    50.000000\n",
       "mean     52.952000\n",
       "std       5.516367\n",
       "min      28.000000\n",
       "25%      51.000000\n",
       "50%      54.600000\n",
       "75%      56.400000\n",
       "max      58.000000\n",
       "Name: comparison, dtype: float64"
      ]
     },
     "execution_count": 7,
     "metadata": {},
     "output_type": "execute_result"
    }
   ],
   "source": [
    "calculated_results[calculated_results['function_name'] == 'binary_search']['comparison'].describe()"
   ]
  },
  {
   "cell_type": "code",
   "execution_count": 8,
   "metadata": {},
   "outputs": [],
   "source": [
    "df_plot = calculated_results[calculated_results['function_name'] == 'binary_search']"
   ]
  },
  {
   "cell_type": "code",
   "execution_count": 10,
   "metadata": {},
   "outputs": [
    {
     "data": {
      "text/plain": [
       "'O(log2)'"
      ]
     },
     "execution_count": 10,
     "metadata": {},
     "output_type": "execute_result"
    }
   ],
   "source": [
    "from complexity import get_complexity\n",
    "\n",
    "x_plot = df_plot['array_length']\n",
    "y_plot = df_plot['comparison'] \n",
    "\n",
    "get_complexity(x_plot,y_plot)\n"
   ]
  }
 ],
 "metadata": {
  "kernelspec": {
   "display_name": "Python 3",
   "language": "python",
   "name": "python3"
  },
  "language_info": {
   "codemirror_mode": {
    "name": "ipython",
    "version": 3
   },
   "file_extension": ".py",
   "mimetype": "text/x-python",
   "name": "python",
   "nbconvert_exporter": "python",
   "pygments_lexer": "ipython3",
   "version": "3.12.6"
  }
 },
 "nbformat": 4,
 "nbformat_minor": 2
}
