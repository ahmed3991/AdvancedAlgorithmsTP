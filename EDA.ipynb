{
 "cells": [
  {
   "cell_type": "markdown",
   "metadata": {},
   "source": [
    "# EDA\n",
    "\n",
    "hello , this is a notebook for analysing the results.csv"
   ]
  },
  {
   "cell_type": "code",
   "execution_count": 2,
   "metadata": {},
   "outputs": [
    {
     "name": "stderr",
     "output_type": "stream",
     "text": [
      "Matplotlib is building the font cache; this may take a moment.\n"
     ]
    },
    {
     "data": {
      "text/html": [
       "<div>\n",
       "<style scoped>\n",
       "    .dataframe tbody tr th:only-of-type {\n",
       "        vertical-align: middle;\n",
       "    }\n",
       "\n",
       "    .dataframe tbody tr th {\n",
       "        vertical-align: top;\n",
       "    }\n",
       "\n",
       "    .dataframe thead th {\n",
       "        text-align: right;\n",
       "    }\n",
       "</style>\n",
       "<table border=\"1\" class=\"dataframe\">\n",
       "  <thead>\n",
       "    <tr style=\"text-align: right;\">\n",
       "      <th></th>\n",
       "      <th>id_test</th>\n",
       "      <th>function_name</th>\n",
       "      <th>array_length</th>\n",
       "      <th>comparison</th>\n",
       "      <th>time</th>\n",
       "      <th>space</th>\n",
       "    </tr>\n",
       "  </thead>\n",
       "  <tbody>\n",
       "    <tr>\n",
       "      <th>0</th>\n",
       "      <td>0</td>\n",
       "      <td>sequential_search</td>\n",
       "      <td>1000</td>\n",
       "      <td>1000</td>\n",
       "      <td>0.213390</td>\n",
       "      <td>0.003906</td>\n",
       "    </tr>\n",
       "    <tr>\n",
       "      <th>1</th>\n",
       "      <td>0</td>\n",
       "      <td>advanced_sequential_search</td>\n",
       "      <td>1000</td>\n",
       "      <td>830</td>\n",
       "      <td>0.202144</td>\n",
       "      <td>0.000000</td>\n",
       "    </tr>\n",
       "    <tr>\n",
       "      <th>2</th>\n",
       "      <td>0</td>\n",
       "      <td>binary_search</td>\n",
       "      <td>1000</td>\n",
       "      <td>10</td>\n",
       "      <td>0.202496</td>\n",
       "      <td>0.000000</td>\n",
       "    </tr>\n",
       "    <tr>\n",
       "      <th>3</th>\n",
       "      <td>1</td>\n",
       "      <td>sequential_search</td>\n",
       "      <td>11000</td>\n",
       "      <td>11000</td>\n",
       "      <td>0.206543</td>\n",
       "      <td>0.000000</td>\n",
       "    </tr>\n",
       "    <tr>\n",
       "      <th>4</th>\n",
       "      <td>1</td>\n",
       "      <td>advanced_sequential_search</td>\n",
       "      <td>11000</td>\n",
       "      <td>6357</td>\n",
       "      <td>0.204019</td>\n",
       "      <td>0.000000</td>\n",
       "    </tr>\n",
       "    <tr>\n",
       "      <th>...</th>\n",
       "      <td>...</td>\n",
       "      <td>...</td>\n",
       "      <td>...</td>\n",
       "      <td>...</td>\n",
       "      <td>...</td>\n",
       "      <td>...</td>\n",
       "    </tr>\n",
       "    <tr>\n",
       "      <th>592</th>\n",
       "      <td>197</td>\n",
       "      <td>advanced_sequential_search</td>\n",
       "      <td>991000</td>\n",
       "      <td>554325</td>\n",
       "      <td>0.321604</td>\n",
       "      <td>0.000000</td>\n",
       "    </tr>\n",
       "    <tr>\n",
       "      <th>593</th>\n",
       "      <td>197</td>\n",
       "      <td>binary_search</td>\n",
       "      <td>991000</td>\n",
       "      <td>20</td>\n",
       "      <td>0.202194</td>\n",
       "      <td>0.000000</td>\n",
       "    </tr>\n",
       "    <tr>\n",
       "      <th>594</th>\n",
       "      <td>198</td>\n",
       "      <td>sequential_search</td>\n",
       "      <td>991000</td>\n",
       "      <td>1605</td>\n",
       "      <td>0.203542</td>\n",
       "      <td>0.000000</td>\n",
       "    </tr>\n",
       "    <tr>\n",
       "      <th>595</th>\n",
       "      <td>198</td>\n",
       "      <td>advanced_sequential_search</td>\n",
       "      <td>991000</td>\n",
       "      <td>1605</td>\n",
       "      <td>0.204256</td>\n",
       "      <td>0.000000</td>\n",
       "    </tr>\n",
       "    <tr>\n",
       "      <th>596</th>\n",
       "      <td>198</td>\n",
       "      <td>binary_search</td>\n",
       "      <td>991000</td>\n",
       "      <td>18</td>\n",
       "      <td>0.202103</td>\n",
       "      <td>0.000000</td>\n",
       "    </tr>\n",
       "  </tbody>\n",
       "</table>\n",
       "<p>597 rows × 6 columns</p>\n",
       "</div>"
      ],
      "text/plain": [
       "     id_test               function_name  array_length  comparison      time  \\\n",
       "0          0           sequential_search          1000        1000  0.213390   \n",
       "1          0  advanced_sequential_search          1000         830  0.202144   \n",
       "2          0               binary_search          1000          10  0.202496   \n",
       "3          1           sequential_search         11000       11000  0.206543   \n",
       "4          1  advanced_sequential_search         11000        6357  0.204019   \n",
       "..       ...                         ...           ...         ...       ...   \n",
       "592      197  advanced_sequential_search        991000      554325  0.321604   \n",
       "593      197               binary_search        991000          20  0.202194   \n",
       "594      198           sequential_search        991000        1605  0.203542   \n",
       "595      198  advanced_sequential_search        991000        1605  0.204256   \n",
       "596      198               binary_search        991000          18  0.202103   \n",
       "\n",
       "        space  \n",
       "0    0.003906  \n",
       "1    0.000000  \n",
       "2    0.000000  \n",
       "3    0.000000  \n",
       "4    0.000000  \n",
       "..        ...  \n",
       "592  0.000000  \n",
       "593  0.000000  \n",
       "594  0.000000  \n",
       "595  0.000000  \n",
       "596  0.000000  \n",
       "\n",
       "[597 rows x 6 columns]"
      ]
     },
     "execution_count": 2,
     "metadata": {},
     "output_type": "execute_result"
    }
   ],
   "source": [
    "import pandas as pd\n",
    "import matplotlib.pyplot as plt\n",
    "\n",
    "df = pd.read_csv('results.csv')\n",
    "\n",
    "df"
   ]
  },
  {
   "cell_type": "code",
   "execution_count": 3,
   "metadata": {},
   "outputs": [],
   "source": [
    "group_columns = ['function_name', 'array_length']\n",
    "cal_columns = ['comparison', 'time','space']\n"
   ]
  },
  {
   "cell_type": "code",
   "execution_count": 4,
   "metadata": {},
   "outputs": [],
   "source": [
    "group_df = df.groupby(group_columns,as_index=False).mean()"
   ]
  },
  {
   "cell_type": "code",
   "execution_count": 5,
   "metadata": {},
   "outputs": [
    {
     "data": {
      "text/html": [
       "<div>\n",
       "<style scoped>\n",
       "    .dataframe tbody tr th:only-of-type {\n",
       "        vertical-align: middle;\n",
       "    }\n",
       "\n",
       "    .dataframe tbody tr th {\n",
       "        vertical-align: top;\n",
       "    }\n",
       "\n",
       "    .dataframe thead th {\n",
       "        text-align: right;\n",
       "    }\n",
       "</style>\n",
       "<table border=\"1\" class=\"dataframe\">\n",
       "  <thead>\n",
       "    <tr style=\"text-align: right;\">\n",
       "      <th></th>\n",
       "      <th>function_name</th>\n",
       "      <th>array_length</th>\n",
       "      <th>comparison</th>\n",
       "      <th>time</th>\n",
       "      <th>space</th>\n",
       "    </tr>\n",
       "  </thead>\n",
       "  <tbody>\n",
       "    <tr>\n",
       "      <th>0</th>\n",
       "      <td>advanced_sequential_search</td>\n",
       "      <td>1000</td>\n",
       "      <td>830.0</td>\n",
       "      <td>0.202144</td>\n",
       "      <td>0.0</td>\n",
       "    </tr>\n",
       "    <tr>\n",
       "      <th>1</th>\n",
       "      <td>advanced_sequential_search</td>\n",
       "      <td>11000</td>\n",
       "      <td>6583.0</td>\n",
       "      <td>0.203883</td>\n",
       "      <td>0.0</td>\n",
       "    </tr>\n",
       "    <tr>\n",
       "      <th>2</th>\n",
       "      <td>advanced_sequential_search</td>\n",
       "      <td>21000</td>\n",
       "      <td>10163.0</td>\n",
       "      <td>0.206371</td>\n",
       "      <td>0.0</td>\n",
       "    </tr>\n",
       "    <tr>\n",
       "      <th>3</th>\n",
       "      <td>advanced_sequential_search</td>\n",
       "      <td>31000</td>\n",
       "      <td>9799.0</td>\n",
       "      <td>0.205318</td>\n",
       "      <td>0.0</td>\n",
       "    </tr>\n",
       "    <tr>\n",
       "      <th>4</th>\n",
       "      <td>advanced_sequential_search</td>\n",
       "      <td>41000</td>\n",
       "      <td>29471.0</td>\n",
       "      <td>0.218945</td>\n",
       "      <td>0.0</td>\n",
       "    </tr>\n",
       "    <tr>\n",
       "      <th>...</th>\n",
       "      <td>...</td>\n",
       "      <td>...</td>\n",
       "      <td>...</td>\n",
       "      <td>...</td>\n",
       "      <td>...</td>\n",
       "    </tr>\n",
       "    <tr>\n",
       "      <th>295</th>\n",
       "      <td>sequential_search</td>\n",
       "      <td>951000</td>\n",
       "      <td>479463.0</td>\n",
       "      <td>0.321123</td>\n",
       "      <td>0.0</td>\n",
       "    </tr>\n",
       "    <tr>\n",
       "      <th>296</th>\n",
       "      <td>sequential_search</td>\n",
       "      <td>961000</td>\n",
       "      <td>961000.0</td>\n",
       "      <td>0.227685</td>\n",
       "      <td>0.0</td>\n",
       "    </tr>\n",
       "    <tr>\n",
       "      <th>297</th>\n",
       "      <td>sequential_search</td>\n",
       "      <td>971000</td>\n",
       "      <td>971000.0</td>\n",
       "      <td>0.393626</td>\n",
       "      <td>0.0</td>\n",
       "    </tr>\n",
       "    <tr>\n",
       "      <th>298</th>\n",
       "      <td>sequential_search</td>\n",
       "      <td>981000</td>\n",
       "      <td>981000.0</td>\n",
       "      <td>0.355908</td>\n",
       "      <td>0.0</td>\n",
       "    </tr>\n",
       "    <tr>\n",
       "      <th>299</th>\n",
       "      <td>sequential_search</td>\n",
       "      <td>991000</td>\n",
       "      <td>496302.5</td>\n",
       "      <td>0.272979</td>\n",
       "      <td>0.0</td>\n",
       "    </tr>\n",
       "  </tbody>\n",
       "</table>\n",
       "<p>300 rows × 5 columns</p>\n",
       "</div>"
      ],
      "text/plain": [
       "                  function_name  array_length  comparison      time  space\n",
       "0    advanced_sequential_search          1000       830.0  0.202144    0.0\n",
       "1    advanced_sequential_search         11000      6583.0  0.203883    0.0\n",
       "2    advanced_sequential_search         21000     10163.0  0.206371    0.0\n",
       "3    advanced_sequential_search         31000      9799.0  0.205318    0.0\n",
       "4    advanced_sequential_search         41000     29471.0  0.218945    0.0\n",
       "..                          ...           ...         ...       ...    ...\n",
       "295           sequential_search        951000    479463.0  0.321123    0.0\n",
       "296           sequential_search        961000    961000.0  0.227685    0.0\n",
       "297           sequential_search        971000    971000.0  0.393626    0.0\n",
       "298           sequential_search        981000    981000.0  0.355908    0.0\n",
       "299           sequential_search        991000    496302.5  0.272979    0.0\n",
       "\n",
       "[300 rows x 5 columns]"
      ]
     },
     "execution_count": 5,
     "metadata": {},
     "output_type": "execute_result"
    }
   ],
   "source": [
    "calculated_results = group_df[group_columns+cal_columns]\n",
    "\n",
    "calculated_results"
   ]
  },
  {
   "cell_type": "code",
   "execution_count": 6,
   "metadata": {},
   "outputs": [
    {
     "data": {
      "text/plain": [
       "['advanced_sequential_search', 'binary_search', 'sequential_search']"
      ]
     },
     "execution_count": 6,
     "metadata": {},
     "output_type": "execute_result"
    }
   ],
   "source": [
    "function_names = list(calculated_results['function_name'].unique())\n",
    "function_names"
   ]
  },
  {
   "cell_type": "code",
   "execution_count": 7,
   "metadata": {},
   "outputs": [
    {
     "data": {
      "image/png": "[encoded data removed]",
      "text/plain": [
       "<Figure size 640x480 with 1 Axes>"
      ]
     },
     "metadata": {},
     "output_type": "display_data"
    }
   ],
   "source": [
    "for function_name in function_names:\n",
    "    df_plot = calculated_results[calculated_results['function_name'] == function_name]\n",
    "    plt.plot(df_plot['array_length'], df_plot['comparison'],label=function_name)\n",
    "\n"
   ]
  },
  {
   "cell_type": "code",
   "execution_count": 8,
   "metadata": {},
   "outputs": [
    {
     "data": {
      "text/plain": [
       "count    100.000000\n",
       "mean      18.280000\n",
       "std        1.647343\n",
       "min       10.000000\n",
       "25%       18.000000\n",
       "50%       18.500000\n",
       "75%       19.500000\n",
       "max       20.000000\n",
       "Name: comparison, dtype: float64"
      ]
     },
     "execution_count": 8,
     "metadata": {},
     "output_type": "execute_result"
    }
   ],
   "source": [
    "calculated_results[calculated_results['function_name'] == 'binary_search']['comparison'].describe()"
   ]
  },
  {
   "cell_type": "code",
   "execution_count": 9,
   "metadata": {},
   "outputs": [],
   "source": [
    "df_plot = calculated_results[calculated_results['function_name'] == 'binary_search']"
   ]
  },
  {
   "cell_type": "code",
   "execution_count": 10,
   "metadata": {},
   "outputs": [
    {
     "data": {
      "text/plain": [
       "'O(log2)'"
      ]
     },
     "execution_count": 10,
     "metadata": {},
     "output_type": "execute_result"
    }
   ],
   "source": [
    "from complexity import get_complexity\n",
    "\n",
    "x_plot = df_plot['array_length']\n",
    "y_plot = df_plot['comparison'] \n",
    "\n",
    "get_complexity(x_plot,y_plot)\n"
   ]
  }
 ],
 "metadata": {
  "kernelspec": {
   "display_name": "Python 3",
   "language": "python",
   "name": "python3"
  },
  "language_info": {
   "codemirror_mode": {
    "name": "ipython",
    "version": 3
   },
   "file_extension": ".py",
   "mimetype": "text/x-python",
   "name": "python",
   "nbconvert_exporter": "python",
   "pygments_lexer": "ipython3",
   "version": "3.12.4"
  }
 },
 "nbformat": 4,
 "nbformat_minor": 2
}
