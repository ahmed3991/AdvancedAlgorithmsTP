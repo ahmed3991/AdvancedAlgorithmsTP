{
 "cells": [
  {
   "cell_type": "markdown",
   "metadata": {},
   "source": [
    "# EDA\n",
    "\n",
    "Hello ,this is a notebook for analysing the results.csv"
   ]
  },
  {
   "cell_type": "code",
   "execution_count": 1,
   "metadata": {},
   "outputs": [
    {
     "data": {
      "text/html": [
       "<div>\n",
       "<style scoped>\n",
       "    .dataframe tbody tr th:only-of-type {\n",
       "        vertical-align: middle;\n",
       "    }\n",
       "\n",
       "    .dataframe tbody tr th {\n",
       "        vertical-align: top;\n",
       "    }\n",
       "\n",
       "    .dataframe thead th {\n",
       "        text-align: right;\n",
       "    }\n",
       "</style>\n",
       "<table border=\"1\" class=\"dataframe\">\n",
       "  <thead>\n",
       "    <tr style=\"text-align: right;\">\n",
       "      <th></th>\n",
       "      <th>id_test</th>\n",
       "      <th>function_name</th>\n",
       "      <th>array_length</th>\n",
       "      <th>comparison</th>\n",
       "      <th>time</th>\n",
       "      <th>space</th>\n",
       "    </tr>\n",
       "  </thead>\n",
       "  <tbody>\n",
       "    <tr>\n",
       "      <th>0</th>\n",
       "      <td>0</td>\n",
       "      <td>sequantial_search</td>\n",
       "      <td>1000</td>\n",
       "      <td>1000</td>\n",
       "      <td>0.210697</td>\n",
       "      <td>0.00000</td>\n",
       "    </tr>\n",
       "    <tr>\n",
       "      <th>1</th>\n",
       "      <td>0</td>\n",
       "      <td>advanced_sequantial_search</td>\n",
       "      <td>1000</td>\n",
       "      <td>1662</td>\n",
       "      <td>0.208243</td>\n",
       "      <td>0.00000</td>\n",
       "    </tr>\n",
       "    <tr>\n",
       "      <th>2</th>\n",
       "      <td>0</td>\n",
       "      <td>binary_search</td>\n",
       "      <td>1000</td>\n",
       "      <td>28</td>\n",
       "      <td>0.206580</td>\n",
       "      <td>0.03125</td>\n",
       "    </tr>\n",
       "    <tr>\n",
       "      <th>3</th>\n",
       "      <td>1</td>\n",
       "      <td>sequantial_search</td>\n",
       "      <td>1000</td>\n",
       "      <td>1000</td>\n",
       "      <td>0.204361</td>\n",
       "      <td>0.00000</td>\n",
       "    </tr>\n",
       "    <tr>\n",
       "      <th>4</th>\n",
       "      <td>1</td>\n",
       "      <td>advanced_sequantial_search</td>\n",
       "      <td>1000</td>\n",
       "      <td>1660</td>\n",
       "      <td>0.209920</td>\n",
       "      <td>0.00000</td>\n",
       "    </tr>\n",
       "    <tr>\n",
       "      <th>...</th>\n",
       "      <td>...</td>\n",
       "      <td>...</td>\n",
       "      <td>...</td>\n",
       "      <td>...</td>\n",
       "      <td>...</td>\n",
       "      <td>...</td>\n",
       "    </tr>\n",
       "    <tr>\n",
       "      <th>745</th>\n",
       "      <td>248</td>\n",
       "      <td>advanced_sequantial_search</td>\n",
       "      <td>981000</td>\n",
       "      <td>744022</td>\n",
       "      <td>0.275755</td>\n",
       "      <td>0.00000</td>\n",
       "    </tr>\n",
       "    <tr>\n",
       "      <th>746</th>\n",
       "      <td>248</td>\n",
       "      <td>binary_search</td>\n",
       "      <td>981000</td>\n",
       "      <td>58</td>\n",
       "      <td>0.208878</td>\n",
       "      <td>0.00000</td>\n",
       "    </tr>\n",
       "    <tr>\n",
       "      <th>747</th>\n",
       "      <td>249</td>\n",
       "      <td>sequantial_search</td>\n",
       "      <td>981000</td>\n",
       "      <td>708105</td>\n",
       "      <td>0.295866</td>\n",
       "      <td>0.00000</td>\n",
       "    </tr>\n",
       "    <tr>\n",
       "      <th>748</th>\n",
       "      <td>249</td>\n",
       "      <td>advanced_sequantial_search</td>\n",
       "      <td>981000</td>\n",
       "      <td>1416209</td>\n",
       "      <td>0.360223</td>\n",
       "      <td>0.00000</td>\n",
       "    </tr>\n",
       "    <tr>\n",
       "      <th>749</th>\n",
       "      <td>249</td>\n",
       "      <td>binary_search</td>\n",
       "      <td>981000</td>\n",
       "      <td>58</td>\n",
       "      <td>0.210792</td>\n",
       "      <td>0.00000</td>\n",
       "    </tr>\n",
       "  </tbody>\n",
       "</table>\n",
       "<p>750 rows × 6 columns</p>\n",
       "</div>"
      ],
      "text/plain": [
       "     id_test               function_name  array_length  comparison      time  \\\n",
       "0          0           sequantial_search          1000        1000  0.210697   \n",
       "1          0  advanced_sequantial_search          1000        1662  0.208243   \n",
       "2          0               binary_search          1000          28  0.206580   \n",
       "3          1           sequantial_search          1000        1000  0.204361   \n",
       "4          1  advanced_sequantial_search          1000        1660  0.209920   \n",
       "..       ...                         ...           ...         ...       ...   \n",
       "745      248  advanced_sequantial_search        981000      744022  0.275755   \n",
       "746      248               binary_search        981000          58  0.208878   \n",
       "747      249           sequantial_search        981000      708105  0.295866   \n",
       "748      249  advanced_sequantial_search        981000     1416209  0.360223   \n",
       "749      249               binary_search        981000          58  0.210792   \n",
       "\n",
       "       space  \n",
       "0    0.00000  \n",
       "1    0.00000  \n",
       "2    0.03125  \n",
       "3    0.00000  \n",
       "4    0.00000  \n",
       "..       ...  \n",
       "745  0.00000  \n",
       "746  0.00000  \n",
       "747  0.00000  \n",
       "748  0.00000  \n",
       "749  0.00000  \n",
       "\n",
       "[750 rows x 6 columns]"
      ]
     },
     "execution_count": 1,
     "metadata": {},
     "output_type": "execute_result"
    }
   ],
   "source": [
    "import pandas as pd\n",
    "import matplotlib.pyplot as plt\n",
    "\n",
    "df = pd.read_csv('results.csv')\n",
    "\n",
    "df"
   ]
  },
  {
   "cell_type": "code",
   "execution_count": 2,
   "metadata": {},
   "outputs": [],
   "source": [
    "group_columns = ['function_name', 'array_length']\n",
    "cal_columns = ['comparison', 'time','space']\n"
   ]
  },
  {
   "cell_type": "code",
   "execution_count": 3,
   "metadata": {},
   "outputs": [],
   "source": [
    "group_df = df.groupby(group_columns,as_index=False).mean()"
   ]
  },
  {
   "cell_type": "code",
   "execution_count": 4,
   "metadata": {},
   "outputs": [
    {
     "data": {
      "text/html": [
       "<div>\n",
       "<style scoped>\n",
       "    .dataframe tbody tr th:only-of-type {\n",
       "        vertical-align: middle;\n",
       "    }\n",
       "\n",
       "    .dataframe tbody tr th {\n",
       "        vertical-align: top;\n",
       "    }\n",
       "\n",
       "    .dataframe thead th {\n",
       "        text-align: right;\n",
       "    }\n",
       "</style>\n",
       "<table border=\"1\" class=\"dataframe\">\n",
       "  <thead>\n",
       "    <tr style=\"text-align: right;\">\n",
       "      <th></th>\n",
       "      <th>function_name</th>\n",
       "      <th>array_length</th>\n",
       "      <th>comparison</th>\n",
       "      <th>time</th>\n",
       "      <th>space</th>\n",
       "    </tr>\n",
       "  </thead>\n",
       "  <tbody>\n",
       "    <tr>\n",
       "      <th>0</th>\n",
       "      <td>advanced_sequantial_search</td>\n",
       "      <td>1000</td>\n",
       "      <td>1548.8</td>\n",
       "      <td>0.208875</td>\n",
       "      <td>0.000000</td>\n",
       "    </tr>\n",
       "    <tr>\n",
       "      <th>1</th>\n",
       "      <td>advanced_sequantial_search</td>\n",
       "      <td>21000</td>\n",
       "      <td>25384.4</td>\n",
       "      <td>0.214027</td>\n",
       "      <td>-9.153125</td>\n",
       "    </tr>\n",
       "    <tr>\n",
       "      <th>2</th>\n",
       "      <td>advanced_sequantial_search</td>\n",
       "      <td>41000</td>\n",
       "      <td>47461.4</td>\n",
       "      <td>0.222127</td>\n",
       "      <td>0.000000</td>\n",
       "    </tr>\n",
       "    <tr>\n",
       "      <th>3</th>\n",
       "      <td>advanced_sequantial_search</td>\n",
       "      <td>61000</td>\n",
       "      <td>69104.4</td>\n",
       "      <td>0.225594</td>\n",
       "      <td>0.000000</td>\n",
       "    </tr>\n",
       "    <tr>\n",
       "      <th>4</th>\n",
       "      <td>advanced_sequantial_search</td>\n",
       "      <td>81000</td>\n",
       "      <td>87644.2</td>\n",
       "      <td>0.227746</td>\n",
       "      <td>0.000000</td>\n",
       "    </tr>\n",
       "    <tr>\n",
       "      <th>...</th>\n",
       "      <td>...</td>\n",
       "      <td>...</td>\n",
       "      <td>...</td>\n",
       "      <td>...</td>\n",
       "      <td>...</td>\n",
       "    </tr>\n",
       "    <tr>\n",
       "      <th>145</th>\n",
       "      <td>sequantial_search</td>\n",
       "      <td>901000</td>\n",
       "      <td>855709.6</td>\n",
       "      <td>0.302392</td>\n",
       "      <td>0.000000</td>\n",
       "    </tr>\n",
       "    <tr>\n",
       "      <th>146</th>\n",
       "      <td>sequantial_search</td>\n",
       "      <td>921000</td>\n",
       "      <td>867328.0</td>\n",
       "      <td>0.303429</td>\n",
       "      <td>0.000000</td>\n",
       "    </tr>\n",
       "    <tr>\n",
       "      <th>147</th>\n",
       "      <td>sequantial_search</td>\n",
       "      <td>941000</td>\n",
       "      <td>897293.6</td>\n",
       "      <td>0.311865</td>\n",
       "      <td>0.000000</td>\n",
       "    </tr>\n",
       "    <tr>\n",
       "      <th>148</th>\n",
       "      <td>sequantial_search</td>\n",
       "      <td>961000</td>\n",
       "      <td>961000.0</td>\n",
       "      <td>0.313912</td>\n",
       "      <td>0.000000</td>\n",
       "    </tr>\n",
       "    <tr>\n",
       "      <th>149</th>\n",
       "      <td>sequantial_search</td>\n",
       "      <td>981000</td>\n",
       "      <td>926421.0</td>\n",
       "      <td>0.312256</td>\n",
       "      <td>0.000000</td>\n",
       "    </tr>\n",
       "  </tbody>\n",
       "</table>\n",
       "<p>150 rows × 5 columns</p>\n",
       "</div>"
      ],
      "text/plain": [
       "                  function_name  array_length  comparison      time     space\n",
       "0    advanced_sequantial_search          1000      1548.8  0.208875  0.000000\n",
       "1    advanced_sequantial_search         21000     25384.4  0.214027 -9.153125\n",
       "2    advanced_sequantial_search         41000     47461.4  0.222127  0.000000\n",
       "3    advanced_sequantial_search         61000     69104.4  0.225594  0.000000\n",
       "4    advanced_sequantial_search         81000     87644.2  0.227746  0.000000\n",
       "..                          ...           ...         ...       ...       ...\n",
       "145           sequantial_search        901000    855709.6  0.302392  0.000000\n",
       "146           sequantial_search        921000    867328.0  0.303429  0.000000\n",
       "147           sequantial_search        941000    897293.6  0.311865  0.000000\n",
       "148           sequantial_search        961000    961000.0  0.313912  0.000000\n",
       "149           sequantial_search        981000    926421.0  0.312256  0.000000\n",
       "\n",
       "[150 rows x 5 columns]"
      ]
     },
     "execution_count": 4,
     "metadata": {},
     "output_type": "execute_result"
    }
   ],
   "source": [
    "calculated_results = group_df[group_columns+cal_columns]\n",
    "\n",
    "calculated_results"
   ]
  },
  {
   "cell_type": "code",
   "execution_count": 5,
   "metadata": {},
   "outputs": [
    {
     "data": {
      "text/plain": [
       "['advanced_sequantial_search', 'binary_search', 'sequantial_search']"
      ]
     },
     "execution_count": 5,
     "metadata": {},
     "output_type": "execute_result"
    }
   ],
   "source": [
    "function_names = list(calculated_results['function_name'].unique())\n",
    "function_names"
   ]
  },
  {
   "cell_type": "code",
   "execution_count": 6,
   "metadata": {},
   "outputs": [
    {
     "data": {
      "image/png": "[encoded data removed]",
      "text/plain": [
       "<Figure size 640x480 with 1 Axes>"
      ]
     },
     "metadata": {},
     "output_type": "display_data"
    }
   ],
   "source": [
    "for function_name in function_names:\n",
    "    df_plot = calculated_results[calculated_results['function_name'] == function_name]\n",
    "    plt.scatter(df_plot['array_length'], df_plot['comparison'],label=function_name)\n",
    "\n"
   ]
  },
  {
   "cell_type": "code",
   "execution_count": 7,
   "metadata": {},
   "outputs": [
    {
     "data": {
      "text/plain": [
       "'O(log2)'"
      ]
     },
     "execution_count": 7,
     "metadata": {},
     "output_type": "execute_result"
    }
   ],
   "source": [
    "from complexity import get_complexity,leastSquares\n",
    "\n",
    "algo_names = ['advanced_sequantial_search', 'binary_search', 'sequantial_search']\n",
    "algo_name = 'binary_search'\n",
    "df_plot = calculated_results[calculated_results['function_name'] == algo_name]\n",
    "\n",
    "x_plot = df_plot['array_length']\n",
    "y_plot = df_plot['comparison']\n",
    "\n",
    "get_complexity(x_plot, y_plot)\n"
   ]
  },
  {
   "cell_type": "code",
   "execution_count": 8,
   "metadata": {},
   "outputs": [],
   "source": [
    "import numpy as np\n",
    "def _1(x):\n",
    "    return np.ones(x.shape)\n",
    "\n",
    "def n(x):\n",
    "    return x\n",
    "\n",
    "def n_2(x):\n",
    "    return x**2\n",
    "\n",
    "def n_3(x):\n",
    "    return x**3\n",
    "\n",
    "def log2(x):\n",
    "    return np.log2(x)\n",
    "\n",
    "def nlog2(x):\n",
    "    return x * np.log2(x)\n",
    "\n",
    "\n",
    "funcs = [_1,n,n_2,n_3,log2,nlog2]\n",
    "complexity_names = ['O(1)','O(n)','O(n2)','O(n3)','O(log2)','O(nlog2)']\n"
   ]
  },
  {
   "cell_type": "code",
   "execution_count": 9,
   "metadata": {},
   "outputs": [
    {
     "name": "stdout",
     "output_type": "stream",
     "text": [
      "O(1) = 52.95199999999999 * _1\n",
      "O(n) = 8.389712097810908e-05 * n\n",
      "O(n2) = -0.00033481809632373265 * n_2\n",
      "O(n3) = 120.75783927331368 * n_3\n",
      "O(log2) = 2.8821072655159847 * log2\n",
      "O(nlog2) = 4.2668304622041994e-06 * nlog2\n",
      "O(log2)\n"
     ]
    },
    {
     "data": {
      "image/png": "[encoded data removed]",
      "text/plain": [
       "<Figure size 640x480 with 1 Axes>"
      ]
     },
     "metadata": {},
     "output_type": "display_data"
    }
   ],
   "source": [
    "plt.scatter(x_plot, y_plot,label='data to fit')\n",
    "\n",
    "best_fit = np.inf\n",
    "best_complexity = ''\n",
    "for func , name in zip(funcs,complexity_names): \n",
    "    new_fit , y_func ,coef = leastSquares(x_plot,y_plot,func)\n",
    "    print(name , '=', coef ,'*', func.__name__ )\n",
    "    if name != 'O(n3)' and name != 'O(n2)' :\n",
    "        plt.plot(x_plot, y_func,label=name)\n",
    "    if best_fit > new_fit:\n",
    "        \n",
    "        best_fit = new_fit\n",
    "        best_complexity = name\n",
    "\n",
    "\n",
    "print(best_complexity)\n"
   ]
  },
  {
   "cell_type": "code",
   "execution_count": null,
   "metadata": {},
   "outputs": [],
   "source": [
    "print('goof job')"
   ]
  }
 ],
 "metadata": {
  "kernelspec": {
   "display_name": "venv",
   "language": "python",
   "name": "python3"
  },
  "language_info": {
   "codemirror_mode": {
    "name": "ipython",
    "version": 3
   },
   "file_extension": ".py",
   "mimetype": "text/x-python",
   "name": "python",
   "nbconvert_exporter": "python",
   "pygments_lexer": "ipython3",
   "version": "3.10.15"
  }
 },
 "nbformat": 4,
 "nbformat_minor": 2
}
